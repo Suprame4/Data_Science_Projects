{
 "cells": [
  {
   "cell_type": "markdown",
   "id": "867236a4",
   "metadata": {
    "papermill": {
     "duration": 0.031771,
     "end_time": "2021-12-16T00:47:06.522174",
     "exception": false,
     "start_time": "2021-12-16T00:47:06.490403",
     "status": "completed"
    },
    "tags": []
   },
   "source": [
    "# San Fransico Bay Wheels \n",
    "![image](https://techcrunch.com/wp-content/uploads/2018/01/gettyimages-866244720.jpg?w=1390&crop=1)\n",
    "\n",
    "My first project importing and analyzing data from BigQuery on Kaggle. This will be the basis for future work, involving huge dataset from BigQuery by putting my SQL skills to work.  \n",
    "\n",
    "Bay Wheels, formerly known as Ford GoBike have become a new form of transportation in the San Francisco area, offering benefits such as affordability, convenience, and exercise for riders. The bike share system is divided into stations around the city, users are able to unlock and return bicycles at any station once their trip is complete. \n",
    "\n",
    "\n",
    "## About the Data \n",
    "The dataset contains trip data from 2013-2018, including the following:\n",
    "* **Trip ID**\n",
    "* **Duration (in seconds)**\n",
    "* **Subscription Type**\n",
    "* **Start time**\n",
    "* **End time**\n",
    "* **Start Station** \n",
    "* **End Station** \n",
    "* **Latitude**\n",
    "* **Longitude**\n"
   ]
  },
  {
   "cell_type": "code",
   "execution_count": 1,
   "id": "7f204658",
   "metadata": {
    "_cell_guid": "b1076dfc-b9ad-4769-8c92-a6c4dae69d19",
    "_uuid": "8f2839f25d086af736a60e9eeb907d3b93b6e0e5",
    "execution": {
     "iopub.execute_input": "2021-12-16T00:47:06.593839Z",
     "iopub.status.busy": "2021-12-16T00:47:06.593223Z",
     "iopub.status.idle": "2021-12-16T00:47:07.542763Z",
     "shell.execute_reply": "2021-12-16T00:47:07.542046Z",
     "shell.execute_reply.started": "2021-12-16T00:42:19.527394Z"
    },
    "papermill": {
     "duration": 0.98872,
     "end_time": "2021-12-16T00:47:07.542939",
     "exception": false,
     "start_time": "2021-12-16T00:47:06.554219",
     "status": "completed"
    },
    "tags": []
   },
   "outputs": [],
   "source": [
    "#Setup enviornment \n",
    "from google.cloud import bigquery \n",
    "import numpy as np # linear algebra\n",
    "import pandas as pd # data processing, CSV file I/O (e.g. pd.read_csv)\n",
    "import matplotlib.pyplot as plt \n",
    "import seaborn as sns "
   ]
  },
  {
   "cell_type": "code",
   "execution_count": 2,
   "id": "30aa96b4",
   "metadata": {
    "execution": {
     "iopub.execute_input": "2021-12-16T00:47:07.610996Z",
     "iopub.status.busy": "2021-12-16T00:47:07.610359Z",
     "iopub.status.idle": "2021-12-16T00:47:07.614051Z",
     "shell.execute_reply": "2021-12-16T00:47:07.613444Z",
     "shell.execute_reply.started": "2021-12-16T00:42:20.767604Z"
    },
    "papermill": {
     "duration": 0.039258,
     "end_time": "2021-12-16T00:47:07.614197",
     "exception": false,
     "start_time": "2021-12-16T00:47:07.574939",
     "status": "completed"
    },
    "tags": []
   },
   "outputs": [
    {
     "name": "stdout",
     "output_type": "stream",
     "text": [
      "Using Kaggle's public dataset BigQuery integration.\n"
     ]
    }
   ],
   "source": [
    "#Create the client object \n",
    "client = bigquery.Client()\n"
   ]
  },
  {
   "cell_type": "code",
   "execution_count": 3,
   "id": "f757af99",
   "metadata": {
    "execution": {
     "iopub.execute_input": "2021-12-16T00:47:07.682534Z",
     "iopub.status.busy": "2021-12-16T00:47:07.681879Z",
     "iopub.status.idle": "2021-12-16T00:47:07.976000Z",
     "shell.execute_reply": "2021-12-16T00:47:07.976586Z",
     "shell.execute_reply.started": "2021-12-16T00:42:20.777523Z"
    },
    "papermill": {
     "duration": 0.331686,
     "end_time": "2021-12-16T00:47:07.976795",
     "exception": false,
     "start_time": "2021-12-16T00:47:07.645109",
     "status": "completed"
    },
    "tags": []
   },
   "outputs": [],
   "source": [
    "#create the reference to the dataset \n",
    "dataset_ref = client.dataset(\"san_francisco_bikeshare\", project=\"bigquery-public-data\")\n",
    "\n",
    "#API request \n",
    "dataset = client.get_dataset(dataset_ref)"
   ]
  },
  {
   "cell_type": "code",
   "execution_count": 4,
   "id": "30aa7378",
   "metadata": {
    "execution": {
     "iopub.execute_input": "2021-12-16T00:47:08.051482Z",
     "iopub.status.busy": "2021-12-16T00:47:08.050418Z",
     "iopub.status.idle": "2021-12-16T00:47:10.722896Z",
     "shell.execute_reply": "2021-12-16T00:47:10.722224Z",
     "shell.execute_reply.started": "2021-12-16T00:42:21.082239Z"
    },
    "papermill": {
     "duration": 2.713603,
     "end_time": "2021-12-16T00:47:10.723056",
     "exception": false,
     "start_time": "2021-12-16T00:47:08.009453",
     "status": "completed"
    },
    "tags": []
   },
   "outputs": [
    {
     "name": "stdout",
     "output_type": "stream",
     "text": [
      "bikeshare_regions\n",
      "bikeshare_station_info\n",
      "bikeshare_station_status\n",
      "bikeshare_trips\n"
     ]
    },
    {
     "name": "stderr",
     "output_type": "stream",
     "text": [
      "/opt/conda/lib/python3.7/site-packages/ipykernel_launcher.py:15: UserWarning: Cannot use bqstorage_client if max_results is set, reverting to fetching data with the tabledata.list endpoint.\n",
      "  from ipykernel import kernelapp as app\n"
     ]
    },
    {
     "name": "stdout",
     "output_type": "stream",
     "text": [
      "   region_id           name\n",
      "0          3  San Francisco\n",
      "1          5       San Jose\n",
      "2         12        Oakland\n",
      "3         13     Emeryville\n",
      "4         14       Berkeley\n",
      "[SchemaField('station_id', 'INTEGER', 'REQUIRED', 'Unique identifier of a station.', (), None), SchemaField('name', 'STRING', 'REQUIRED', 'Public name of the station', (), None), SchemaField('short_name', 'STRING', 'NULLABLE', 'Short name or other type of identifier, as used by the data publisher', (), None), SchemaField('lat', 'FLOAT', 'REQUIRED', 'The latitude of station. The field value must be a valid WGS 84 latitude in decimal degrees format. See: http://en.wikipedia.org/wiki/World_Geodetic_System, https://en.wikipedia.org/wiki/Decimal_degrees', (), None), SchemaField('lon', 'FLOAT', 'REQUIRED', 'The longitude of station. The field value must be a valid WGS 84 longitude in decimal degrees format. See: http://en.wikipedia.org/wiki/World_Geodetic_System, https://en.wikipedia.org/wiki/Decimal_degrees', (), None), SchemaField('region_id', 'INTEGER', 'NULLABLE', 'ID of the region where station is located', (), None), SchemaField('rental_methods', 'STRING', 'NULLABLE', 'Array of enumerables containing the payment methods accepted at this station.  Current valid values (in CAPS) are: KEY (i.e. operator issued bike key / fob / card) CREDITCARD PAYPASS APPLEPAY ANDROIDPAY TRANSITCARD ACCOUNTNUMBER PHONE This list is intended to be as comprehensive at the time of publication as possible but is subject to change, as defined in File Requirements above', (), None), SchemaField('capacity', 'INTEGER', 'NULLABLE', 'Number of total docking points installed at this station, both available and unavailable', (), None), SchemaField('external_id', 'STRING', 'NULLABLE', '', (), None), SchemaField('eightd_has_key_dispenser', 'BOOLEAN', 'NULLABLE', '', (), None), SchemaField('has_kiosk', 'BOOLEAN', 'NULLABLE', '', (), None), SchemaField('station_geom', 'GEOGRAPHY', 'NULLABLE', '', (), None)]\n"
     ]
    },
    {
     "name": "stderr",
     "output_type": "stream",
     "text": [
      "/opt/conda/lib/python3.7/site-packages/ipykernel_launcher.py:28: UserWarning: Cannot use bqstorage_client if max_results is set, reverting to fetching data with the tabledata.list endpoint.\n"
     ]
    },
    {
     "name": "stdout",
     "output_type": "stream",
     "text": [
      "Index(['station_id', 'name', 'short_name', 'lat', 'lon', 'region_id',\n",
      "       'rental_methods', 'capacity', 'external_id', 'eightd_has_key_dispenser',\n",
      "       'has_kiosk', 'station_geom'],\n",
      "      dtype='object')\n",
      "   station_id                                               name short_name  \\\n",
      "0         501  Balboa Park (San Jose Ave at Sgt. John V. Youn...     SF-Y16   \n",
      "1         504                       Onondaga Ave at Alemany Blvd    SF-AA17   \n",
      "2         505                            Geneva Ave at Moscow St    SF-CC18   \n",
      "3         544                 Allyne Park (Green St at Gough St)     SF-C21   \n",
      "4         546                              13th St at Webster St    OK-L6-2   \n",
      "\n",
      "         lat         lon  region_id         rental_methods  capacity  \\\n",
      "0  37.724893 -122.443238        NaN  ['KEY', 'CREDITCARD']         0   \n",
      "1  37.721544 -122.438303        NaN  ['KEY', 'CREDITCARD']         0   \n",
      "2  37.713193 -122.433491        NaN  ['KEY', 'CREDITCARD']         0   \n",
      "3  37.797249 -122.427457        NaN  ['KEY', 'CREDITCARD']        19   \n",
      "4  37.802688 -122.269146        NaN  ['KEY', 'CREDITCARD']        19   \n",
      "\n",
      "                            external_id  eightd_has_key_dispenser  has_kiosk  \\\n",
      "0  fed768af-80bd-4567-9a94-df9b7e369433                     False      False   \n",
      "1  c03c4e52-af17-45f6-adcd-47318c1d3aec                     False      False   \n",
      "2  f730f60a-6481-45fa-a956-eb9b511f89e4                     False      False   \n",
      "3  236c090a-68d6-4e2a-8a93-9d701ec242d9                     False       True   \n",
      "4  492edeb7-7c9f-4845-b5cc-442faedb3a56                     False       True   \n",
      "\n",
      "                                station_geom  \n",
      "0   POINT(-122.44323849678 37.7248926838497)  \n",
      "1  POINT(-122.438303232193 37.7215436655777)  \n",
      "2   POINT(-122.43349134922 37.7131925379374)  \n",
      "3               POINT(-122.427457 37.797249)  \n",
      "4  POINT(-122.269146367908 37.8026884020407)  \n",
      "[SchemaField('station_id', 'INTEGER', 'REQUIRED', 'Unique identifier of a station', (), None), SchemaField('num_bikes_available', 'INTEGER', 'REQUIRED', 'Number of bikes available for rental', (), None), SchemaField('num_bikes_disabled', 'INTEGER', 'NULLABLE', 'Number of disabled bikes at the station. Vendors who do not want to publicize the number of disabled bikes or docks in their system can opt to omit station capacity (in station_information), num_bikes_disabled and num_docks_disabled. If station capacity is published then broken docks/bikes can be inferred (though not specifically whether the decreased capacity is a broken bike or dock)', (), None), SchemaField('num_docks_available', 'INTEGER', 'REQUIRED', 'Number of docks accepting bike returns', (), None), SchemaField('num_docks_disabled', 'INTEGER', 'NULLABLE', 'Number of empty but disabled dock points at the station. This value remains as part of the spec as it is possibly useful during development', (), None), SchemaField('is_installed', 'BOOLEAN', 'REQUIRED', '1/0 boolean - is the station currently on the street', (), None), SchemaField('is_renting', 'BOOLEAN', 'REQUIRED', '1/0 boolean - is the station currently renting bikes (even if the station is empty, if it is set to allow rentals this value should be 1)', (), None), SchemaField('is_returning', 'BOOLEAN', 'REQUIRED', '1/0 boolean - is the station accepting bike returns (if a station is full but would allow a return if it was not full then this value should be 1)', (), None), SchemaField('last_reported', 'INTEGER', 'REQUIRED', 'Integer POSIX timestamp indicating the last time this station reported its status to the backend', (), None), SchemaField('num_ebikes_available', 'INTEGER', 'NULLABLE', '', (), None), SchemaField('eightd_has_available_keys', 'BOOLEAN', 'NULLABLE', '', (), None)]\n"
     ]
    },
    {
     "name": "stderr",
     "output_type": "stream",
     "text": [
      "/opt/conda/lib/python3.7/site-packages/ipykernel_launcher.py:28: UserWarning: Cannot use bqstorage_client if max_results is set, reverting to fetching data with the tabledata.list endpoint.\n"
     ]
    },
    {
     "name": "stdout",
     "output_type": "stream",
     "text": [
      "Index(['station_id', 'num_bikes_available', 'num_bikes_disabled',\n",
      "       'num_docks_available', 'num_docks_disabled', 'is_installed',\n",
      "       'is_renting', 'is_returning', 'last_reported', 'num_ebikes_available',\n",
      "       'eightd_has_available_keys'],\n",
      "      dtype='object')\n",
      "   station_id  num_bikes_available  num_bikes_disabled  num_docks_available  \\\n",
      "0          64                    0                   0                    0   \n",
      "1         254                    0                  15                    0   \n",
      "2         501                    0                   0                    0   \n",
      "3         504                    0                   0                    0   \n",
      "4         505                    0                   0                    0   \n",
      "\n",
      "   num_docks_disabled  is_installed  is_renting  is_returning  last_reported  \\\n",
      "0                   0         False       False         False          86400   \n",
      "1                   0          True       False          True     1639570931   \n",
      "2                   0         False       False         False          86400   \n",
      "3                   0         False       False         False          86400   \n",
      "4                   0         False       False         False          86400   \n",
      "\n",
      "   num_ebikes_available  eightd_has_available_keys  \n",
      "0                     0                      False  \n",
      "1                     0                      False  \n",
      "2                     0                      False  \n",
      "3                     0                      False  \n",
      "4                     0                      False  \n",
      "[SchemaField('trip_id', 'STRING', 'REQUIRED', 'Numeric ID of bike trip', (), None), SchemaField('duration_sec', 'INTEGER', 'NULLABLE', 'Time of trip in seconds', (), None), SchemaField('start_date', 'TIMESTAMP', 'NULLABLE', 'Start date of trip with date and time, in PST', (), None), SchemaField('start_station_name', 'STRING', 'NULLABLE', 'Station name of start station', (), None), SchemaField('start_station_id', 'INTEGER', 'NULLABLE', 'Numeric reference for start station', (), None), SchemaField('end_date', 'TIMESTAMP', 'NULLABLE', 'End date of trip with date and time, in PST', (), None), SchemaField('end_station_name', 'STRING', 'NULLABLE', 'Station name for end station', (), None), SchemaField('end_station_id', 'INTEGER', 'NULLABLE', 'Numeric reference for end station', (), None), SchemaField('bike_number', 'INTEGER', 'NULLABLE', 'ID of bike used', (), None), SchemaField('zip_code', 'STRING', 'NULLABLE', 'Home zip code of subscriber (customers can choose to manually enter zip at kiosk however data is unreliable)', (), None), SchemaField('subscriber_type', 'STRING', 'NULLABLE', 'Subscriber = annual or 30-day member; Customer = 24-hour or 3-day member', (), None), SchemaField('c_subscription_type', 'STRING', 'NULLABLE', '', (), None), SchemaField('start_station_latitude', 'FLOAT', 'NULLABLE', '', (), None), SchemaField('start_station_longitude', 'FLOAT', 'NULLABLE', '', (), None), SchemaField('end_station_latitude', 'FLOAT', 'NULLABLE', '', (), None), SchemaField('end_station_longitude', 'FLOAT', 'NULLABLE', '', (), None), SchemaField('member_birth_year', 'INTEGER', 'NULLABLE', '', (), None), SchemaField('member_gender', 'STRING', 'NULLABLE', '', (), None), SchemaField('bike_share_for_all_trip', 'STRING', 'NULLABLE', '', (), None), SchemaField('start_station_geom', 'GEOGRAPHY', 'NULLABLE', '', (), None), SchemaField('end_station_geom', 'GEOGRAPHY', 'NULLABLE', '', (), None)]\n"
     ]
    },
    {
     "name": "stderr",
     "output_type": "stream",
     "text": [
      "/opt/conda/lib/python3.7/site-packages/ipykernel_launcher.py:28: UserWarning: Cannot use bqstorage_client if max_results is set, reverting to fetching data with the tabledata.list endpoint.\n"
     ]
    },
    {
     "name": "stdout",
     "output_type": "stream",
     "text": [
      "Index(['trip_id', 'duration_sec', 'start_date', 'start_station_name',\n",
      "       'start_station_id', 'end_date', 'end_station_name', 'end_station_id',\n",
      "       'bike_number', 'zip_code', 'subscriber_type', 'c_subscription_type',\n",
      "       'start_station_latitude', 'start_station_longitude',\n",
      "       'end_station_latitude', 'end_station_longitude', 'member_birth_year',\n",
      "       'member_gender', 'bike_share_for_all_trip', 'start_station_geom',\n",
      "       'end_station_geom'],\n",
      "      dtype='object')\n",
      "                trip_id  duration_sec                start_date  \\\n",
      "0    472017123123383700           249 2017-12-31 23:38:37+00:00   \n",
      "1   6172017123121533800           462 2017-12-31 21:53:38+00:00   \n",
      "2  13372017123117451000           468 2017-12-31 17:45:10+00:00   \n",
      "3   3072017123117293000           569 2017-12-31 17:29:30+00:00   \n",
      "4  26262017123116565900          1362 2017-12-31 16:56:59+00:00   \n",
      "\n",
      "       start_station_name  start_station_id                  end_date  \\\n",
      "0  The Alameda at Bush St               278 2017-12-31 23:42:47+00:00   \n",
      "1  Valencia St at 16th St                98 2017-12-31 22:01:20+00:00   \n",
      "2     Bay Pl at Vernon St               195 2017-12-31 17:52:59+00:00   \n",
      "3  Lakeside Dr at 14th St               186 2017-12-31 17:38:59+00:00   \n",
      "4     Folsom St at 3rd St                36 2017-12-31 17:19:42+00:00   \n",
      "\n",
      "                 end_station_name  end_station_id  bike_number zip_code  ...  \\\n",
      "0  Santa Clara St at Almaden Blvd             314           47     None  ...   \n",
      "1            11th St at Bryant St              88          617     None  ...   \n",
      "2        Telegraph Ave at 19th St             183         1337     None  ...   \n",
      "3             Union St at 10th St             235          307     None  ...   \n",
      "4      Webster St at O'Farrell St             285         2626     None  ...   \n",
      "\n",
      "  c_subscription_type start_station_latitude  start_station_longitude  \\\n",
      "0          Subscriber              37.331932              -121.904888   \n",
      "1          Subscriber              37.765052              -122.421866   \n",
      "2            Customer              37.812314              -122.260779   \n",
      "3          Subscriber              37.801319              -122.262642   \n",
      "4          Subscriber              37.783830              -122.398870   \n",
      "\n",
      "   end_station_latitude  end_station_longitude  member_birth_year  \\\n",
      "0             37.333988            -121.894902               1993   \n",
      "1             37.770030            -122.411726               1982   \n",
      "2             37.808702            -122.269927               1986   \n",
      "3             37.807239            -122.289370               1991   \n",
      "4             37.783521            -122.431158               1987   \n",
      "\n",
      "   member_gender bike_share_for_all_trip  \\\n",
      "0           Male                    None   \n",
      "1           Male                    None   \n",
      "2           Male                    None   \n",
      "3           Male                    None   \n",
      "4           Male                    None   \n",
      "\n",
      "                          start_station_geom  \\\n",
      "0             POINT(-121.9048882 37.3319323)   \n",
      "1              POINT(-122.4218661 37.765052)   \n",
      "2  POINT(-122.260778546333 37.8123140913515)   \n",
      "3             POINT(-122.2626418 37.8013189)   \n",
      "4                 POINT(-122.39887 37.78383)   \n",
      "\n",
      "                           end_station_geom  \n",
      "0              POINT(-121.894902 37.333988)  \n",
      "1            POINT(-122.4117258 37.7700298)  \n",
      "2            POINT(-122.2699271 37.8087021)  \n",
      "3            POINT(-122.2893702 37.8072393)  \n",
      "4  POINT(-122.431157827377 37.783520835261)  \n",
      "\n",
      "[5 rows x 21 columns]\n"
     ]
    }
   ],
   "source": [
    "#Preview the data \n",
    "tables_list = list(client.list_tables(dataset))\n",
    "\n",
    "#Identify the names of the tables\n",
    "for i in tables_list:\n",
    "    print(i.table_id)\n",
    "    \n",
    "#Create a refence to a table in the dataset \n",
    "table_ref = dataset_ref.table('bikeshare_regions')\n",
    "\n",
    "#API request \n",
    "table = client.get_table(table_ref)\n",
    "\n",
    "#Create a dataframe \n",
    "df = client.list_rows(table, max_results = 5).to_dataframe()\n",
    "print(df)\n",
    "\n",
    "#Create a reference to the remaining tables\n",
    "table2_ref = dataset_ref.table('bikeshare_station_info')\n",
    "table3_ref = dataset_ref.table('bikeshare_station_status')\n",
    "table4_ref = dataset_ref.table('bikeshare_trips')\n",
    "\n",
    "table_list = [table2_ref, table3_ref, table4_ref]\n",
    "for i in table_list:\n",
    "    table = client.get_table(i)\n",
    "    #View the schema of each table to get more info about each column \n",
    "    print(table.schema)\n",
    "    df = client.list_rows(table, max_results = 5).to_dataframe()\n",
    "    print(df.columns)\n",
    "    print(df)\n"
   ]
  },
  {
   "cell_type": "code",
   "execution_count": 5,
   "id": "1ac3f5e4",
   "metadata": {
    "execution": {
     "iopub.execute_input": "2021-12-16T00:47:10.802455Z",
     "iopub.status.busy": "2021-12-16T00:47:10.801762Z",
     "iopub.status.idle": "2021-12-16T00:47:11.190209Z",
     "shell.execute_reply": "2021-12-16T00:47:11.189333Z",
     "shell.execute_reply.started": "2021-12-16T00:42:23.800313Z"
    },
    "papermill": {
     "duration": 0.432225,
     "end_time": "2021-12-16T00:47:11.190418",
     "exception": false,
     "start_time": "2021-12-16T00:47:10.758193",
     "status": "completed"
    },
    "tags": []
   },
   "outputs": [
    {
     "name": "stdout",
     "output_type": "stream",
     "text": [
      "This query will process 407002188 bytes.\n"
     ]
    }
   ],
   "source": [
    "#Get an idea of how big the 'bikeshare_trips' table is \n",
    "query = \"\"\"\n",
    "SELECT *\n",
    "FROM `bigquery-public-data.san_francisco_bikeshare.bikeshare_trips`\n",
    "\"\"\"\n",
    "\n",
    "#Create a QueryJobConfig object and set the dry_run parameter to True \n",
    "dry_run_config = bigquery.QueryJobConfig(dry_run = True)\n",
    "\n",
    "#API request to estimate memory usage\n",
    "dry_query_run = client.query(query, job_config = dry_run_config)\n",
    "\n",
    "print(\"This query will process {} bytes.\".format(dry_query_run.total_bytes_processed))"
   ]
  },
  {
   "cell_type": "markdown",
   "id": "02670762",
   "metadata": {
    "papermill": {
     "duration": 0.03609,
     "end_time": "2021-12-16T00:47:11.263763",
     "exception": false,
     "start_time": "2021-12-16T00:47:11.227673",
     "status": "completed"
    },
    "tags": []
   },
   "source": [
    "Now that I have previewed the data, I can begin to generate questions that can lead to insights about ride sharing in the city of San Francisco. And also, write my first queries to make it possible.  \n",
    "\n",
    "General overviews of the data:\n",
    "* Trip information \n",
    "* Customer information \n",
    "* Station information  \n",
    "\n",
    "## General Questions for analysis\n",
    "1. How do members and subscribers differ in usage?\n",
    "2. What are the most popular start and end station pairings? \n",
    "3. Which hour in the day, and day has the high level of traffic?"
   ]
  },
  {
   "cell_type": "markdown",
   "id": "ff03eab8",
   "metadata": {
    "papermill": {
     "duration": 0.035969,
     "end_time": "2021-12-16T00:47:11.334854",
     "exception": false,
     "start_time": "2021-12-16T00:47:11.298885",
     "status": "completed"
    },
    "tags": []
   },
   "source": [
    "# Analyze the Data \n",
    "\n",
    "I'll begin by writing a query to find the number of stations in San Francisco "
   ]
  },
  {
   "cell_type": "code",
   "execution_count": 6,
   "id": "5984de6a",
   "metadata": {
    "execution": {
     "iopub.execute_input": "2021-12-16T00:47:11.414845Z",
     "iopub.status.busy": "2021-12-16T00:47:11.414088Z",
     "iopub.status.idle": "2021-12-16T00:47:12.454683Z",
     "shell.execute_reply": "2021-12-16T00:47:12.454042Z",
     "shell.execute_reply.started": "2021-12-16T00:42:24.308595Z"
    },
    "papermill": {
     "duration": 1.084372,
     "end_time": "2021-12-16T00:47:12.454875",
     "exception": false,
     "start_time": "2021-12-16T00:47:11.370503",
     "status": "completed"
    },
    "tags": []
   },
   "outputs": [
    {
     "name": "stderr",
     "output_type": "stream",
     "text": [
      "/opt/conda/lib/python3.7/site-packages/google/cloud/bigquery/client.py:440: UserWarning: Cannot create BigQuery Storage client, the dependency google-cloud-bigquery-storage is not installed.\n",
      "  \"Cannot create BigQuery Storage client, the dependency \"\n"
     ]
    },
    {
     "name": "stdout",
     "output_type": "stream",
     "text": [
      "     station_id\n",
      "0           501\n",
      "1           504\n",
      "2           505\n",
      "3           544\n",
      "4           547\n",
      "..          ...\n",
      "253          15\n",
      "254          50\n",
      "255          66\n",
      "256         527\n",
      "257         412\n",
      "\n",
      "[258 rows x 1 columns]\n",
      "There is a total of 263 stations\n"
     ]
    }
   ],
   "source": [
    "#Set a query limit of 1 gb\n",
    "one_gb = 1000*1000*1000\n",
    "safe_query = bigquery.QueryJobConfig(maximum_bytes_billed = one_gb)\n",
    "\n",
    "#First query \n",
    "query1 = \"\"\"\n",
    "SELECT DISTINCT(station_id)\n",
    "FROM `bigquery-public-data.san_francisco_bikeshare.bikeshare_station_info`\n",
    "WHERE short_name LIKE 'SF%' \n",
    "\"\"\"\n",
    "\n",
    "#run the query\n",
    "query_res = client.query(query1, job_config = safe_query)\n",
    "\n",
    "#Create a dataframe \n",
    "query_res = query_res.to_dataframe()\n",
    "print(query_res)\n",
    "print('There is a total of 263 stations')"
   ]
  },
  {
   "cell_type": "markdown",
   "id": "ba681144",
   "metadata": {
    "papermill": {
     "duration": 0.037794,
     "end_time": "2021-12-16T00:47:12.529756",
     "exception": false,
     "start_time": "2021-12-16T00:47:12.491962",
     "status": "completed"
    },
    "tags": []
   },
   "source": [
    "From the 263 stations around the city, which are the most popular start and end stations? "
   ]
  },
  {
   "cell_type": "markdown",
   "id": "4727f54b",
   "metadata": {
    "papermill": {
     "duration": 0.035819,
     "end_time": "2021-12-16T00:47:12.602892",
     "exception": false,
     "start_time": "2021-12-16T00:47:12.567073",
     "status": "completed"
    },
    "tags": []
   },
   "source": [
    "## Top Start and End Stations"
   ]
  },
  {
   "cell_type": "code",
   "execution_count": 7,
   "id": "de9ffd79",
   "metadata": {
    "execution": {
     "iopub.execute_input": "2021-12-16T00:47:12.680095Z",
     "iopub.status.busy": "2021-12-16T00:47:12.679414Z",
     "iopub.status.idle": "2021-12-16T00:47:13.918107Z",
     "shell.execute_reply": "2021-12-16T00:47:13.918670Z",
     "shell.execute_reply.started": "2021-12-16T00:42:25.467454Z"
    },
    "papermill": {
     "duration": 1.278821,
     "end_time": "2021-12-16T00:47:13.918923",
     "exception": false,
     "start_time": "2021-12-16T00:47:12.640102",
     "status": "completed"
    },
    "tags": []
   },
   "outputs": [
    {
     "name": "stderr",
     "output_type": "stream",
     "text": [
      "/opt/conda/lib/python3.7/site-packages/google/cloud/bigquery/client.py:440: UserWarning: Cannot create BigQuery Storage client, the dependency google-cloud-bigquery-storage is not installed.\n",
      "  \"Cannot create BigQuery Storage client, the dependency \"\n"
     ]
    },
    {
     "name": "stdout",
     "output_type": "stream",
     "text": [
      "   start_station_id  trips_n\n",
      "0                70    80370\n",
      "1                50    56570\n",
      "2                60    46286\n",
      "3                61    45166\n",
      "4                74    43779\n",
      "5                55    41647\n",
      "6                77    39243\n",
      "7                76    33035\n",
      "8                64    30195\n",
      "9                66    30006\n"
     ]
    }
   ],
   "source": [
    "#use both 'bikeshare_station_info' and 'bikeshare_trips' to find the top 10 start stations\n",
    "\n",
    "query2 = \"\"\"\n",
    "SELECT start_station_id, COUNT(trip_id) as trips_n \n",
    "FROM `bigquery-public-data.san_francisco_bikeshare.bikeshare_station_info` as t1\n",
    "INNER JOIN `bigquery-public-data.san_francisco_bikeshare.bikeshare_trips` as t2 \n",
    "ON t1.station_id = t2.start_station_id \n",
    "WHERE short_name LIKE 'SF%' \n",
    "GROUP BY (start_station_id)\n",
    "ORDER BY COUNT(trip_id) desc\n",
    "LIMIT 10\n",
    "\"\"\"\n",
    "\n",
    "query_res2 = client.query(query2)\n",
    "\n",
    "query_res2 = query_res2.to_dataframe()\n",
    "print(query_res2)\n",
    "\n",
    "#change the data type of the \"start_station_id\" to a string \n",
    "query_res2['start_station_id'] = query_res2['start_station_id'].astype('str')"
   ]
  },
  {
   "cell_type": "code",
   "execution_count": 8,
   "id": "cf4a591d",
   "metadata": {
    "execution": {
     "iopub.execute_input": "2021-12-16T00:47:13.997780Z",
     "iopub.status.busy": "2021-12-16T00:47:13.997116Z",
     "iopub.status.idle": "2021-12-16T00:47:14.263922Z",
     "shell.execute_reply": "2021-12-16T00:47:14.264438Z",
     "shell.execute_reply.started": "2021-12-16T00:42:27.442651Z"
    },
    "papermill": {
     "duration": 0.307002,
     "end_time": "2021-12-16T00:47:14.264620",
     "exception": false,
     "start_time": "2021-12-16T00:47:13.957618",
     "status": "completed"
    },
    "tags": []
   },
   "outputs": [
    {
     "data": {
      "image/png": "[encoded data removed]",
      "text/plain": [
       "<Figure size 432x288 with 1 Axes>"
      ]
     },
     "metadata": {
      "needs_background": "light"
     },
     "output_type": "display_data"
    }
   ],
   "source": [
    "#Create a box plot of the ten most popular start stations \n",
    "plt.bar(query_res2.start_station_id, query_res2.trips_n)\n",
    "plt.xlabel('Station Number')\n",
    "plt.ylabel('Count of Trips')\n",
    "plt.title('Top Ten most Popular Start Stations')\n",
    "plt.xticks(query_res2['start_station_id'])\n",
    "plt.show()"
   ]
  },
  {
   "cell_type": "code",
   "execution_count": 9,
   "id": "60c25c98",
   "metadata": {
    "execution": {
     "iopub.execute_input": "2021-12-16T00:47:14.347279Z",
     "iopub.status.busy": "2021-12-16T00:47:14.346622Z",
     "iopub.status.idle": "2021-12-16T00:47:15.562152Z",
     "shell.execute_reply": "2021-12-16T00:47:15.561554Z",
     "shell.execute_reply.started": "2021-12-16T00:42:27.751412Z"
    },
    "papermill": {
     "duration": 1.260339,
     "end_time": "2021-12-16T00:47:15.562315",
     "exception": false,
     "start_time": "2021-12-16T00:47:14.301976",
     "status": "completed"
    },
    "tags": []
   },
   "outputs": [
    {
     "name": "stderr",
     "output_type": "stream",
     "text": [
      "/opt/conda/lib/python3.7/site-packages/google/cloud/bigquery/client.py:440: UserWarning: Cannot create BigQuery Storage client, the dependency google-cloud-bigquery-storage is not installed.\n",
      "  \"Cannot create BigQuery Storage client, the dependency \"\n"
     ]
    },
    {
     "data": {
      "text/html": [
       "<div>\n",
       "<style scoped>\n",
       "    .dataframe tbody tr th:only-of-type {\n",
       "        vertical-align: middle;\n",
       "    }\n",
       "\n",
       "    .dataframe tbody tr th {\n",
       "        vertical-align: top;\n",
       "    }\n",
       "\n",
       "    .dataframe thead th {\n",
       "        text-align: right;\n",
       "    }\n",
       "</style>\n",
       "<table border=\"1\" class=\"dataframe\">\n",
       "  <thead>\n",
       "    <tr style=\"text-align: right;\">\n",
       "      <th></th>\n",
       "      <th>end_station_id</th>\n",
       "      <th>trips_n</th>\n",
       "    </tr>\n",
       "  </thead>\n",
       "  <tbody>\n",
       "    <tr>\n",
       "      <th>0</th>\n",
       "      <td>70</td>\n",
       "      <td>77625</td>\n",
       "    </tr>\n",
       "    <tr>\n",
       "      <th>1</th>\n",
       "      <td>50</td>\n",
       "      <td>48107</td>\n",
       "    </tr>\n",
       "    <tr>\n",
       "      <th>2</th>\n",
       "      <td>60</td>\n",
       "      <td>45317</td>\n",
       "    </tr>\n",
       "    <tr>\n",
       "      <th>3</th>\n",
       "      <td>61</td>\n",
       "      <td>43402</td>\n",
       "    </tr>\n",
       "    <tr>\n",
       "      <th>4</th>\n",
       "      <td>67</td>\n",
       "      <td>39899</td>\n",
       "    </tr>\n",
       "    <tr>\n",
       "      <th>5</th>\n",
       "      <td>69</td>\n",
       "      <td>38877</td>\n",
       "    </tr>\n",
       "    <tr>\n",
       "      <th>6</th>\n",
       "      <td>77</td>\n",
       "      <td>36233</td>\n",
       "    </tr>\n",
       "    <tr>\n",
       "      <th>7</th>\n",
       "      <td>74</td>\n",
       "      <td>35497</td>\n",
       "    </tr>\n",
       "    <tr>\n",
       "      <th>8</th>\n",
       "      <td>30</td>\n",
       "      <td>30600</td>\n",
       "    </tr>\n",
       "    <tr>\n",
       "      <th>9</th>\n",
       "      <td>6</td>\n",
       "      <td>28553</td>\n",
       "    </tr>\n",
       "  </tbody>\n",
       "</table>\n",
       "</div>"
      ],
      "text/plain": [
       "   end_station_id  trips_n\n",
       "0              70    77625\n",
       "1              50    48107\n",
       "2              60    45317\n",
       "3              61    43402\n",
       "4              67    39899\n",
       "5              69    38877\n",
       "6              77    36233\n",
       "7              74    35497\n",
       "8              30    30600\n",
       "9               6    28553"
      ]
     },
     "execution_count": 9,
     "metadata": {},
     "output_type": "execute_result"
    }
   ],
   "source": [
    "#use both 'bikeshare_station_info' and 'bikeshare_trips' to find the top 10 end stations\n",
    "query3 = \"\"\"\n",
    "SELECT end_station_id, COUNT(trip_id) as trips_n \n",
    "FROM `bigquery-public-data.san_francisco_bikeshare.bikeshare_station_info` as t1\n",
    "INNER JOIN `bigquery-public-data.san_francisco_bikeshare.bikeshare_trips` as t2 \n",
    "ON t1.station_id = t2.start_station_id \n",
    "WHERE short_name LIKE 'SF%' \n",
    "GROUP BY (end_station_id)\n",
    "ORDER BY COUNT(trip_id) desc\n",
    "LIMIT 10\n",
    "\"\"\"\n",
    "query_res3 = client.query(query3)\n",
    "query_res3 = query_res3.to_dataframe()\n",
    "query_res3"
   ]
  },
  {
   "cell_type": "code",
   "execution_count": 10,
   "id": "b099e344",
   "metadata": {
    "execution": {
     "iopub.execute_input": "2021-12-16T00:47:15.647530Z",
     "iopub.status.busy": "2021-12-16T00:47:15.646835Z",
     "iopub.status.idle": "2021-12-16T00:47:15.649843Z",
     "shell.execute_reply": "2021-12-16T00:47:15.650335Z",
     "shell.execute_reply.started": "2021-12-16T00:42:30.101972Z"
    },
    "papermill": {
     "duration": 0.050474,
     "end_time": "2021-12-16T00:47:15.650529",
     "exception": false,
     "start_time": "2021-12-16T00:47:15.600055",
     "status": "completed"
    },
    "tags": []
   },
   "outputs": [
    {
     "data": {
      "text/plain": [
       "end_station_id    object\n",
       "trips_n            int64\n",
       "dtype: object"
      ]
     },
     "execution_count": 10,
     "metadata": {},
     "output_type": "execute_result"
    }
   ],
   "source": [
    "#Change the data type of the \"end_station_id\" to a string \n",
    "query_res3['end_station_id'] = query_res3['end_station_id'].astype('str')\n",
    "query_res3.dtypes"
   ]
  },
  {
   "cell_type": "code",
   "execution_count": 11,
   "id": "da618963",
   "metadata": {
    "execution": {
     "iopub.execute_input": "2021-12-16T00:47:15.731261Z",
     "iopub.status.busy": "2021-12-16T00:47:15.730626Z",
     "iopub.status.idle": "2021-12-16T00:47:15.970399Z",
     "shell.execute_reply": "2021-12-16T00:47:15.971105Z",
     "shell.execute_reply.started": "2021-12-16T00:42:30.115389Z"
    },
    "papermill": {
     "duration": 0.282316,
     "end_time": "2021-12-16T00:47:15.971334",
     "exception": false,
     "start_time": "2021-12-16T00:47:15.689018",
     "status": "completed"
    },
    "tags": []
   },
   "outputs": [
    {
     "data": {
      "image/png": "[encoded data removed]",
      "text/plain": [
       "<Figure size 432x288 with 1 Axes>"
      ]
     },
     "metadata": {
      "needs_background": "light"
     },
     "output_type": "display_data"
    }
   ],
   "source": [
    "#Create a box plot of the ten most popular start stations \n",
    "plt.bar(query_res3.end_station_id, query_res2.trips_n)\n",
    "plt.ylabel('Count of Trips')\n",
    "plt.xlabel('Station Number')\n",
    "plt.title('Top 10 most Popular End Stations')\n",
    "plt.xticks(query_res3['end_station_id'])\n",
    "plt.show()"
   ]
  },
  {
   "cell_type": "markdown",
   "id": "449e66b0",
   "metadata": {
    "papermill": {
     "duration": 0.039668,
     "end_time": "2021-12-16T00:47:16.050528",
     "exception": false,
     "start_time": "2021-12-16T00:47:16.010860",
     "status": "completed"
    },
    "tags": []
   },
   "source": [
    "A few of the top start and end stations appear in both dataframes, I will continue by identifying those stations to gain more insight."
   ]
  },
  {
   "cell_type": "code",
   "execution_count": 12,
   "id": "cccd8995",
   "metadata": {
    "execution": {
     "iopub.execute_input": "2021-12-16T00:47:16.149716Z",
     "iopub.status.busy": "2021-12-16T00:47:16.139402Z",
     "iopub.status.idle": "2021-12-16T00:47:16.156105Z",
     "shell.execute_reply": "2021-12-16T00:47:16.156589Z",
     "shell.execute_reply.started": "2021-12-16T00:42:30.328412Z"
    },
    "papermill": {
     "duration": 0.066014,
     "end_time": "2021-12-16T00:47:16.156769",
     "exception": false,
     "start_time": "2021-12-16T00:47:16.090755",
     "status": "completed"
    },
    "tags": []
   },
   "outputs": [
    {
     "data": {
      "text/html": [
       "<div>\n",
       "<style scoped>\n",
       "    .dataframe tbody tr th:only-of-type {\n",
       "        vertical-align: middle;\n",
       "    }\n",
       "\n",
       "    .dataframe tbody tr th {\n",
       "        vertical-align: top;\n",
       "    }\n",
       "\n",
       "    .dataframe thead th {\n",
       "        text-align: right;\n",
       "    }\n",
       "</style>\n",
       "<table border=\"1\" class=\"dataframe\">\n",
       "  <thead>\n",
       "    <tr style=\"text-align: right;\">\n",
       "      <th></th>\n",
       "      <th>start_station_id</th>\n",
       "      <th>trips_n_x</th>\n",
       "      <th>end_station_id</th>\n",
       "      <th>trips_n_y</th>\n",
       "    </tr>\n",
       "  </thead>\n",
       "  <tbody>\n",
       "    <tr>\n",
       "      <th>0</th>\n",
       "      <td>70</td>\n",
       "      <td>80370</td>\n",
       "      <td>70</td>\n",
       "      <td>77625</td>\n",
       "    </tr>\n",
       "    <tr>\n",
       "      <th>1</th>\n",
       "      <td>50</td>\n",
       "      <td>56570</td>\n",
       "      <td>50</td>\n",
       "      <td>48107</td>\n",
       "    </tr>\n",
       "    <tr>\n",
       "      <th>2</th>\n",
       "      <td>60</td>\n",
       "      <td>46286</td>\n",
       "      <td>60</td>\n",
       "      <td>45317</td>\n",
       "    </tr>\n",
       "    <tr>\n",
       "      <th>3</th>\n",
       "      <td>61</td>\n",
       "      <td>45166</td>\n",
       "      <td>61</td>\n",
       "      <td>43402</td>\n",
       "    </tr>\n",
       "    <tr>\n",
       "      <th>4</th>\n",
       "      <td>74</td>\n",
       "      <td>43779</td>\n",
       "      <td>74</td>\n",
       "      <td>35497</td>\n",
       "    </tr>\n",
       "    <tr>\n",
       "      <th>5</th>\n",
       "      <td>77</td>\n",
       "      <td>39243</td>\n",
       "      <td>77</td>\n",
       "      <td>36233</td>\n",
       "    </tr>\n",
       "  </tbody>\n",
       "</table>\n",
       "</div>"
      ],
      "text/plain": [
       "  start_station_id  trips_n_x end_station_id  trips_n_y\n",
       "0               70      80370             70      77625\n",
       "1               50      56570             50      48107\n",
       "2               60      46286             60      45317\n",
       "3               61      45166             61      43402\n",
       "4               74      43779             74      35497\n",
       "5               77      39243             77      36233"
      ]
     },
     "execution_count": 12,
     "metadata": {},
     "output_type": "execute_result"
    }
   ],
   "source": [
    "#Finding start and end stations represented in both dataframes\n",
    "merge_df = pd.merge(query_res2, query_res3, left_on='start_station_id', right_on='end_station_id', how=\"inner\")\n",
    "merge_df"
   ]
  },
  {
   "cell_type": "markdown",
   "id": "23402c48",
   "metadata": {
    "papermill": {
     "duration": 0.038982,
     "end_time": "2021-12-16T00:47:16.235479",
     "exception": false,
     "start_time": "2021-12-16T00:47:16.196497",
     "status": "completed"
    },
    "tags": []
   },
   "source": [
    "There are a total of 5 stations from both dataframes that are in the top 10 stations. The question that then comes to mind is, **why might these station be so popular?** My initial thoughts to the question might be due to location and routes. I will begin by looking at the top routes to draw any correlation between the top start and end stations. "
   ]
  },
  {
   "cell_type": "code",
   "execution_count": 13,
   "id": "1c6dd185",
   "metadata": {
    "execution": {
     "iopub.execute_input": "2021-12-16T00:47:16.321578Z",
     "iopub.status.busy": "2021-12-16T00:47:16.317308Z",
     "iopub.status.idle": "2021-12-16T00:47:17.460276Z",
     "shell.execute_reply": "2021-12-16T00:47:17.460833Z",
     "shell.execute_reply.started": "2021-12-16T00:42:30.357083Z"
    },
    "papermill": {
     "duration": 1.186144,
     "end_time": "2021-12-16T00:47:17.461009",
     "exception": false,
     "start_time": "2021-12-16T00:47:16.274865",
     "status": "completed"
    },
    "tags": []
   },
   "outputs": [
    {
     "name": "stderr",
     "output_type": "stream",
     "text": [
      "/opt/conda/lib/python3.7/site-packages/google/cloud/bigquery/client.py:440: UserWarning: Cannot create BigQuery Storage client, the dependency google-cloud-bigquery-storage is not installed.\n",
      "  \"Cannot create BigQuery Storage client, the dependency \"\n"
     ]
    },
    {
     "data": {
      "text/html": [
       "<div>\n",
       "<style scoped>\n",
       "    .dataframe tbody tr th:only-of-type {\n",
       "        vertical-align: middle;\n",
       "    }\n",
       "\n",
       "    .dataframe tbody tr th {\n",
       "        vertical-align: top;\n",
       "    }\n",
       "\n",
       "    .dataframe thead th {\n",
       "        text-align: right;\n",
       "    }\n",
       "</style>\n",
       "<table border=\"1\" class=\"dataframe\">\n",
       "  <thead>\n",
       "    <tr style=\"text-align: right;\">\n",
       "      <th></th>\n",
       "      <th>start_station_id</th>\n",
       "      <th>end_station_id</th>\n",
       "      <th>trip_count</th>\n",
       "    </tr>\n",
       "  </thead>\n",
       "  <tbody>\n",
       "    <tr>\n",
       "      <th>0</th>\n",
       "      <td>50</td>\n",
       "      <td>60</td>\n",
       "      <td>9162</td>\n",
       "    </tr>\n",
       "    <tr>\n",
       "      <th>1</th>\n",
       "      <td>61</td>\n",
       "      <td>50</td>\n",
       "      <td>7628</td>\n",
       "    </tr>\n",
       "    <tr>\n",
       "      <th>2</th>\n",
       "      <td>50</td>\n",
       "      <td>61</td>\n",
       "      <td>6904</td>\n",
       "    </tr>\n",
       "    <tr>\n",
       "      <th>3</th>\n",
       "      <td>60</td>\n",
       "      <td>74</td>\n",
       "      <td>6894</td>\n",
       "    </tr>\n",
       "    <tr>\n",
       "      <th>4</th>\n",
       "      <td>51</td>\n",
       "      <td>70</td>\n",
       "      <td>6351</td>\n",
       "    </tr>\n",
       "    <tr>\n",
       "      <th>5</th>\n",
       "      <td>70</td>\n",
       "      <td>50</td>\n",
       "      <td>6216</td>\n",
       "    </tr>\n",
       "    <tr>\n",
       "      <th>6</th>\n",
       "      <td>74</td>\n",
       "      <td>61</td>\n",
       "      <td>6078</td>\n",
       "    </tr>\n",
       "    <tr>\n",
       "      <th>7</th>\n",
       "      <td>74</td>\n",
       "      <td>70</td>\n",
       "      <td>6058</td>\n",
       "    </tr>\n",
       "    <tr>\n",
       "      <th>8</th>\n",
       "      <td>55</td>\n",
       "      <td>70</td>\n",
       "      <td>5843</td>\n",
       "    </tr>\n",
       "    <tr>\n",
       "      <th>9</th>\n",
       "      <td>15</td>\n",
       "      <td>6</td>\n",
       "      <td>5543</td>\n",
       "    </tr>\n",
       "  </tbody>\n",
       "</table>\n",
       "</div>"
      ],
      "text/plain": [
       "   start_station_id  end_station_id  trip_count\n",
       "0                50              60        9162\n",
       "1                61              50        7628\n",
       "2                50              61        6904\n",
       "3                60              74        6894\n",
       "4                51              70        6351\n",
       "5                70              50        6216\n",
       "6                74              61        6078\n",
       "7                74              70        6058\n",
       "8                55              70        5843\n",
       "9                15               6        5543"
      ]
     },
     "execution_count": 13,
     "metadata": {},
     "output_type": "execute_result"
    }
   ],
   "source": [
    "#Find the top routes\n",
    "query11 = \"\"\"\n",
    "SELECT start_station_id, end_station_id, COUNT(trip_id) as trip_count\n",
    "FROM `bigquery-public-data.san_francisco_bikeshare.bikeshare_station_info` as t1 \n",
    "INNER JOIN `bigquery-public-data.san_francisco_bikeshare.bikeshare_trips` as t2 \n",
    "ON t1.station_id = t2.start_station_id \n",
    "WHERE short_name LIKE 'SF%'\n",
    "GROUP BY start_station_id, end_station_id\n",
    "ORDER BY COUNT(trip_id) DESC\n",
    "LIMIT 10 \n",
    "\"\"\"\n",
    "\n",
    "query11_res = client.query(query11)\n",
    "query11_res = query11_res.to_dataframe()\n",
    "query11_res"
   ]
  },
  {
   "cell_type": "markdown",
   "id": "ecb5893e",
   "metadata": {
    "papermill": {
     "duration": 0.040069,
     "end_time": "2021-12-16T00:47:17.541637",
     "exception": false,
     "start_time": "2021-12-16T00:47:17.501568",
     "status": "completed"
    },
    "tags": []
   },
   "source": [
    "## Customers and Subscribers \n",
    "\n",
    "A number of options are available to riders, ranging from single rides to an annual subscription. The current pricing for the options are:\n",
    "* Single rides start at $3 per trip\n",
    "\n",
    "* Day passes start at $10 per day \n",
    "\n",
    "* Memberships are $25 per month, or $159 per year \n",
    "\n",
    "Riders are labeled as a **Subscriber** if they purchase an annual or 30-day plan, whereas riders who purchase single rides or day passes are known as **Customers**.\n",
    "\n",
    "The future success of Bay Wheels could be the conversion of customer to subscribers, making it even more important to understand how customers and subscribers differ on the platform. From this analysis a promotion plan can then be made to incentivize customers on becoming subscribers to the platform. \n"
   ]
  },
  {
   "cell_type": "code",
   "execution_count": 14,
   "id": "5e19fa43",
   "metadata": {
    "execution": {
     "iopub.execute_input": "2021-12-16T00:47:17.628409Z",
     "iopub.status.busy": "2021-12-16T00:47:17.627415Z",
     "iopub.status.idle": "2021-12-16T00:47:18.597835Z",
     "shell.execute_reply": "2021-12-16T00:47:18.597335Z",
     "shell.execute_reply.started": "2021-12-16T00:42:32.697892Z"
    },
    "papermill": {
     "duration": 1.01588,
     "end_time": "2021-12-16T00:47:18.597979",
     "exception": false,
     "start_time": "2021-12-16T00:47:17.582099",
     "status": "completed"
    },
    "tags": []
   },
   "outputs": [
    {
     "name": "stderr",
     "output_type": "stream",
     "text": [
      "/opt/conda/lib/python3.7/site-packages/google/cloud/bigquery/client.py:440: UserWarning: Cannot create BigQuery Storage client, the dependency google-cloud-bigquery-storage is not installed.\n",
      "  \"Cannot create BigQuery Storage client, the dependency \"\n"
     ]
    },
    {
     "data": {
      "text/html": [
       "<div>\n",
       "<style scoped>\n",
       "    .dataframe tbody tr th:only-of-type {\n",
       "        vertical-align: middle;\n",
       "    }\n",
       "\n",
       "    .dataframe tbody tr th {\n",
       "        vertical-align: top;\n",
       "    }\n",
       "\n",
       "    .dataframe thead th {\n",
       "        text-align: right;\n",
       "    }\n",
       "</style>\n",
       "<table border=\"1\" class=\"dataframe\">\n",
       "  <thead>\n",
       "    <tr style=\"text-align: right;\">\n",
       "      <th></th>\n",
       "      <th>subscriber_type</th>\n",
       "      <th>num_total</th>\n",
       "    </tr>\n",
       "  </thead>\n",
       "  <tbody>\n",
       "    <tr>\n",
       "      <th>0</th>\n",
       "      <td>Subscriber</td>\n",
       "      <td>1635448</td>\n",
       "    </tr>\n",
       "    <tr>\n",
       "      <th>1</th>\n",
       "      <td>Customer</td>\n",
       "      <td>311971</td>\n",
       "    </tr>\n",
       "  </tbody>\n",
       "</table>\n",
       "</div>"
      ],
      "text/plain": [
       "  subscriber_type  num_total\n",
       "0      Subscriber    1635448\n",
       "1        Customer     311971"
      ]
     },
     "execution_count": 14,
     "metadata": {},
     "output_type": "execute_result"
    }
   ],
   "source": [
    "#Count the number customer and subscribers \n",
    "query4 = \"\"\"\n",
    "SELECT subscriber_type, COUNT(subscriber_type) as num_total\n",
    "FROM `bigquery-public-data.san_francisco_bikeshare.bikeshare_trips`\n",
    "GROUP BY subscriber_type\n",
    "\"\"\"\n",
    "query_res4 = client.query(query4)\n",
    "query_res4 = query_res4.to_dataframe()\n",
    "query_res4"
   ]
  },
  {
   "cell_type": "markdown",
   "id": "deb041fa",
   "metadata": {
    "papermill": {
     "duration": 0.040869,
     "end_time": "2021-12-16T00:47:18.679951",
     "exception": false,
     "start_time": "2021-12-16T00:47:18.639082",
     "status": "completed"
    },
    "tags": []
   },
   "source": [
    "Unfortunately, I am not able to get the number of individual customer and subscribers due to what I believe is privacy reasons. But, I am able to get the number of rides for both customers and subscribers. \n",
    "\n",
    "Subscribers have **5x** the number of rides compared to customers on the platform. My hypothesis is that subscriber use the bicycles as a means of commute, while subscribers may use the bicycles for leisure activities. Further insights between Subscribers and Customers will also be analyzed below in the **Activity** segment. \n"
   ]
  },
  {
   "cell_type": "markdown",
   "id": "d54ee438",
   "metadata": {
    "papermill": {
     "duration": 0.040683,
     "end_time": "2021-12-16T00:47:18.762479",
     "exception": false,
     "start_time": "2021-12-16T00:47:18.721796",
     "status": "completed"
    },
    "tags": []
   },
   "source": [
    "## Activity\n",
    "Bicycles are available 24 hours a day, 365 days a year for riders. Understanding what time of day, which day of the week, and month of year is the busiest will help further my analysis. "
   ]
  },
  {
   "cell_type": "code",
   "execution_count": 15,
   "id": "28585d4f",
   "metadata": {
    "execution": {
     "iopub.execute_input": "2021-12-16T00:47:18.849097Z",
     "iopub.status.busy": "2021-12-16T00:47:18.847880Z",
     "iopub.status.idle": "2021-12-16T00:47:19.859941Z",
     "shell.execute_reply": "2021-12-16T00:47:19.860814Z",
     "shell.execute_reply.started": "2021-12-16T00:42:34.134513Z"
    },
    "papermill": {
     "duration": 1.057528,
     "end_time": "2021-12-16T00:47:19.861078",
     "exception": false,
     "start_time": "2021-12-16T00:47:18.803550",
     "status": "completed"
    },
    "tags": []
   },
   "outputs": [
    {
     "name": "stderr",
     "output_type": "stream",
     "text": [
      "/opt/conda/lib/python3.7/site-packages/google/cloud/bigquery/client.py:440: UserWarning: Cannot create BigQuery Storage client, the dependency google-cloud-bigquery-storage is not installed.\n",
      "  \"Cannot create BigQuery Storage client, the dependency \"\n"
     ]
    },
    {
     "name": "stdout",
     "output_type": "stream",
     "text": [
      "     hour  trip_count\n",
      "0   12 am        7768\n",
      "1    1 am        4094\n",
      "2    2 am        2432\n",
      "3    3 am        1422\n",
      "4    4 am        2672\n",
      "5    5 am        9243\n",
      "6    6 am       37486\n",
      "7    7 am      118565\n",
      "8    8 am      240965\n",
      "9    9 am      181953\n",
      "10  10 am       89070\n",
      "11  11 am       83738\n",
      "12  12 pm       96141\n",
      "13   1 pm       92164\n",
      "14   2 pm       82819\n",
      "15   3 pm       99094\n",
      "16   4 pm      164285\n",
      "17   5 pm      239801\n",
      "18   6 pm      171136\n",
      "19   7 pm       91170\n",
      "20   8 pm       53738\n",
      "21   9 pm       37508\n",
      "22  10 pm       25105\n",
      "23  11 pm       15050\n"
     ]
    }
   ],
   "source": [
    "#Identify the busiest time of day \n",
    "query5 = \"\"\"\n",
    "SELECT extract(HOUR FROM start_date) as hour, COUNT(trip_id) as trip_count\n",
    "FROM `bigquery-public-data.san_francisco_bikeshare.bikeshare_trips`\n",
    "GROUP BY hour\n",
    "ORDER BY hour \n",
    "\"\"\"\n",
    "\n",
    "query_res5 = client.query(query5)\n",
    "query_res5 = query_res5.to_dataframe()\n",
    "\n",
    "#Create a list to change the hour column \n",
    "hour_list = ['12 am', '1 am', '2 am','3 am','4 am','5 am','6 am','7 am', '8 am', '9 am', '10 am', '11 am', '12 pm', '1 pm', '2 pm','3 pm','4 pm','5 pm','6 pm','7 pm', '8 pm', '9 pm', '10 pm', '11 pm']\n",
    "\n",
    "#Replace the values in the column with the values in the list \n",
    "query_res5['hour'] = hour_list\n",
    "print(query_res5)"
   ]
  },
  {
   "cell_type": "code",
   "execution_count": 16,
   "id": "96774ebe",
   "metadata": {
    "execution": {
     "iopub.execute_input": "2021-12-16T00:47:19.952882Z",
     "iopub.status.busy": "2021-12-16T00:47:19.951907Z",
     "iopub.status.idle": "2021-12-16T00:47:20.275718Z",
     "shell.execute_reply": "2021-12-16T00:47:20.275028Z",
     "shell.execute_reply.started": "2021-12-16T00:42:36.692555Z"
    },
    "papermill": {
     "duration": 0.369857,
     "end_time": "2021-12-16T00:47:20.275872",
     "exception": false,
     "start_time": "2021-12-16T00:47:19.906015",
     "status": "completed"
    },
    "tags": []
   },
   "outputs": [
    {
     "data": {
      "image/png": "[encoded data removed]",
      "text/plain": [
       "<Figure size 432x288 with 1 Axes>"
      ]
     },
     "metadata": {
      "needs_background": "light"
     },
     "output_type": "display_data"
    }
   ],
   "source": [
    "#Plot the dataframe as a bar graph \n",
    "\n",
    "plt.bar(query_res5.hour, query_res5.trip_count)\n",
    "plt.ylabel('Count of Trips')\n",
    "plt.xlabel('Hours in the Day')\n",
    "plt.title('Activity of Users throughout the Day')\n",
    "plt.xticks(rotation = 90)\n",
    "plt.show()"
   ]
  },
  {
   "cell_type": "markdown",
   "id": "693e05de",
   "metadata": {
    "papermill": {
     "duration": 0.042432,
     "end_time": "2021-12-16T00:47:20.361493",
     "exception": false,
     "start_time": "2021-12-16T00:47:20.319061",
     "status": "completed"
    },
    "tags": []
   },
   "source": [
    "The distribution represents a **bimodal shape.** The peak hours are 8 am and 5 pm as shown in the graph, which may be the result of riders communiting to work or school in the morning and evening. Further analysis will be needed to uncover any correlations within the data."
   ]
  },
  {
   "cell_type": "code",
   "execution_count": 17,
   "id": "f9ae85f8",
   "metadata": {
    "execution": {
     "iopub.execute_input": "2021-12-16T00:47:20.457311Z",
     "iopub.status.busy": "2021-12-16T00:47:20.456599Z",
     "iopub.status.idle": "2021-12-16T00:47:21.425128Z",
     "shell.execute_reply": "2021-12-16T00:47:21.425755Z",
     "shell.execute_reply.started": "2021-12-16T00:42:36.987968Z"
    },
    "papermill": {
     "duration": 1.021556,
     "end_time": "2021-12-16T00:47:21.425936",
     "exception": false,
     "start_time": "2021-12-16T00:47:20.404380",
     "status": "completed"
    },
    "tags": []
   },
   "outputs": [
    {
     "name": "stderr",
     "output_type": "stream",
     "text": [
      "/opt/conda/lib/python3.7/site-packages/google/cloud/bigquery/client.py:440: UserWarning: Cannot create BigQuery Storage client, the dependency google-cloud-bigquery-storage is not installed.\n",
      "  \"Cannot create BigQuery Storage client, the dependency \"\n"
     ]
    },
    {
     "name": "stdout",
     "output_type": "stream",
     "text": [
      "    hour subscriber_type  count\n",
      "0  12 am      Subscriber   5722\n",
      "1  12 am        Customer   2046\n",
      "2   1 am      Subscriber   2713\n",
      "3   1 am        Customer   1381\n",
      "4   2 am      Subscriber   1464\n"
     ]
    },
    {
     "data": {
      "text/plain": [
       "hour               object\n",
       "subscriber_type    object\n",
       "count               int64\n",
       "dtype: object"
      ]
     },
     "execution_count": 17,
     "metadata": {},
     "output_type": "execute_result"
    }
   ],
   "source": [
    "#Identify the difference between Subscribers and customers count during the day\n",
    "query8 = \"\"\"\n",
    "SELECT extract(HOUR FROM start_date) as hour, subscriber_type, COUNT(*) as count\n",
    "FROM `bigquery-public-data.san_francisco_bikeshare.bikeshare_trips`\n",
    "GROUP BY hour, subscriber_type\n",
    "ORDER BY hour \n",
    "\"\"\"\n",
    "\n",
    "query8_res = client.query(query8)\n",
    "query8_res = query8_res.to_dataframe() \n",
    "\n",
    "#Create a list to change the hour column \n",
    "hour_list2 = ['12 am', '12 am', '1 am', '1 am', '2 am', '2 am','3 am', '3 am','4 am', '4 am','5 am', '5 am','6 am', '6 am','7 am', '7 am', '8 am', '8 am','9 am', '9 am', '10 am', '10 am', '11 am', '11 am', '12 pm', '12 pm', '1 pm','1 pm', '2 pm','2 pm','3 pm','3 pm','4 pm','4 pm','5 pm','5 pm','6 pm','6 pm','7 pm','7 pm', '8 pm','8 pm', '9 pm','9 pm', '10 pm','10 pm', '11 pm', '11 pm']\n",
    "\n",
    "#Change the hour column \n",
    "query8_res['hour'] = hour_list2\n",
    "print(query8_res.head())\n",
    "query8_res.dtypes "
   ]
  },
  {
   "cell_type": "code",
   "execution_count": 18,
   "id": "c29a69d0",
   "metadata": {
    "execution": {
     "iopub.execute_input": "2021-12-16T00:47:21.525113Z",
     "iopub.status.busy": "2021-12-16T00:47:21.524470Z",
     "iopub.status.idle": "2021-12-16T00:47:22.154696Z",
     "shell.execute_reply": "2021-12-16T00:47:22.154036Z",
     "shell.execute_reply.started": "2021-12-16T00:42:39.225832Z"
    },
    "papermill": {
     "duration": 0.684871,
     "end_time": "2021-12-16T00:47:22.154890",
     "exception": false,
     "start_time": "2021-12-16T00:47:21.470019",
     "status": "completed"
    },
    "tags": []
   },
   "outputs": [
    {
     "data": {
      "text/plain": [
       "[]"
      ]
     },
     "execution_count": 18,
     "metadata": {},
     "output_type": "execute_result"
    },
    {
     "data": {
      "image/png": "[encoded data removed]",
      "text/plain": [
       "<Figure size 432x288 with 1 Axes>"
      ]
     },
     "metadata": {
      "needs_background": "light"
     },
     "output_type": "display_data"
    }
   ],
   "source": [
    "#filter for subscribers and customers into individual dataframes \n",
    "df1 = query8_res[query8_res['subscriber_type'] == 'Subscriber']\n",
    "df2 = query8_res[query8_res['subscriber_type'] == 'Customer']\n",
    "\n",
    "\n",
    "#Create the x-axis - the np.arange() function from numpy library is used to create a range of values \n",
    "x_axis = np.arange(len(hour_list))\n",
    "\n",
    "#To avoid overlapping of bars in each group, the bars are shifted -0.2 units and +0.2 units from the x-axis \n",
    "#The width of the bars of each graph is set 0.4 units \n",
    "plt.bar(x_axis - 0.2,  df1['count'], 0.4, label=\"Subscriber\")\n",
    "plt.bar(x_axis + 0.2, df2['count'], 0.4, label=\"Customer\")\n",
    "plt.xticks(x_axis, hour_list, rotation = 90)\n",
    "plt.xlabel('Hours in the Day')\n",
    "plt.ylabel('Count of Trips')\n",
    "plt.title('Activity of Users Throughout the Day')\n",
    "plt.legend()\n",
    "plt.plot()"
   ]
  },
  {
   "cell_type": "markdown",
   "id": "18a268a1",
   "metadata": {
    "papermill": {
     "duration": 0.044889,
     "end_time": "2021-12-16T00:47:22.245831",
     "exception": false,
     "start_time": "2021-12-16T00:47:22.200942",
     "status": "completed"
    },
    "tags": []
   },
   "source": [
    "The shape of the distribution of the number of rides for both, subscribers and customers are completely different. The number of rides throughout the day for subscribers is vastly greater than that of customers. The peak hours for customers appears to be in the **afternoon**, between 1 to 5 pm. My hypothesis is that both subscribers and customers, partake in different activities throughout the day. "
   ]
  },
  {
   "cell_type": "code",
   "execution_count": 19,
   "id": "7c73634e",
   "metadata": {
    "execution": {
     "iopub.execute_input": "2021-12-16T00:47:22.345938Z",
     "iopub.status.busy": "2021-12-16T00:47:22.345210Z",
     "iopub.status.idle": "2021-12-16T00:47:23.541638Z",
     "shell.execute_reply": "2021-12-16T00:47:23.541039Z",
     "shell.execute_reply.started": "2021-12-16T00:42:39.800403Z"
    },
    "papermill": {
     "duration": 1.250999,
     "end_time": "2021-12-16T00:47:23.541787",
     "exception": false,
     "start_time": "2021-12-16T00:47:22.290788",
     "status": "completed"
    },
    "tags": []
   },
   "outputs": [
    {
     "name": "stderr",
     "output_type": "stream",
     "text": [
      "/opt/conda/lib/python3.7/site-packages/google/cloud/bigquery/client.py:440: UserWarning: Cannot create BigQuery Storage client, the dependency google-cloud-bigquery-storage is not installed.\n",
      "  \"Cannot create BigQuery Storage client, the dependency \"\n"
     ]
    },
    {
     "name": "stdout",
     "output_type": "stream",
     "text": [
      "   day  trip_count\n",
      "0    1      132374\n",
      "1    2      322673\n",
      "2    3      349190\n",
      "3    4      345075\n",
      "4    5      335488\n",
      "5    6      309472\n",
      "6    7      153147\n"
     ]
    },
    {
     "data": {
      "text/plain": [
       "[]"
      ]
     },
     "execution_count": 19,
     "metadata": {},
     "output_type": "execute_result"
    },
    {
     "data": {
      "image/png": "[encoded data removed]",
      "text/plain": [
       "<Figure size 432x288 with 1 Axes>"
      ]
     },
     "metadata": {
      "needs_background": "light"
     },
     "output_type": "display_data"
    }
   ],
   "source": [
    "#Identify the busiest day's of the week \n",
    "query6 = \"\"\"\n",
    "SELECT extract(DAYOFWEEK FROM start_date) as day, COUNT(trip_id) as trip_count\n",
    "FROM `bigquery-public-data.san_francisco_bikeshare.bikeshare_trips`\n",
    "GROUP BY day\n",
    "ORDER BY day \n",
    "\"\"\"\n",
    "#DAYOFWEEK: Returns values in the range [1, 7] with Sunday as the first day of the week \n",
    "\n",
    "query6_res = client.query(query6)\n",
    "query6_res = query6_res.to_dataframe()\n",
    "print(query6_res)\n",
    "\n",
    "#Create list of days in a week to create the x_axis \n",
    "day_list = ['Sun', 'Mon', 'Tue', 'Wed', 'Thur', 'Fri', 'Sat']\n",
    "query6_res['day'] = day_list\n",
    "\n",
    "#plot the bar graph \n",
    "plt.bar(query6_res['day'], query6_res['trip_count'])\n",
    "plt.xlabel('Days of the Week')\n",
    "plt.ylabel('Count of Trips')\n",
    "plt.title('Activity of Users throughout the Week')\n",
    "plt.plot()"
   ]
  },
  {
   "cell_type": "markdown",
   "id": "c978e131",
   "metadata": {
    "papermill": {
     "duration": 0.047308,
     "end_time": "2021-12-16T00:47:23.636747",
     "exception": false,
     "start_time": "2021-12-16T00:47:23.589439",
     "status": "completed"
    },
    "tags": []
   },
   "source": [
    "The busiest day's of the week appear to be during the **weekday**, and not the **weekend**. Further analysis will be needed to uncover why this is true, and not the opposite for bike sharing. "
   ]
  },
  {
   "cell_type": "code",
   "execution_count": 20,
   "id": "dccd29d6",
   "metadata": {
    "execution": {
     "iopub.execute_input": "2021-12-16T00:47:23.734427Z",
     "iopub.status.busy": "2021-12-16T00:47:23.733730Z",
     "iopub.status.idle": "2021-12-16T00:47:24.671102Z",
     "shell.execute_reply": "2021-12-16T00:47:24.671805Z",
     "shell.execute_reply.started": "2021-12-16T00:42:42.663889Z"
    },
    "papermill": {
     "duration": 0.988779,
     "end_time": "2021-12-16T00:47:24.672014",
     "exception": false,
     "start_time": "2021-12-16T00:47:23.683235",
     "status": "completed"
    },
    "tags": []
   },
   "outputs": [
    {
     "name": "stderr",
     "output_type": "stream",
     "text": [
      "/opt/conda/lib/python3.7/site-packages/google/cloud/bigquery/client.py:440: UserWarning: Cannot create BigQuery Storage client, the dependency google-cloud-bigquery-storage is not installed.\n",
      "  \"Cannot create BigQuery Storage client, the dependency \"\n"
     ]
    },
    {
     "name": "stdout",
     "output_type": "stream",
     "text": [
      "    day subscriber_type   count\n",
      "0     1      Subscriber   75097\n",
      "1     1        Customer   57277\n",
      "2     2        Customer   36127\n",
      "3     2      Subscriber  286546\n",
      "4     3      Subscriber  314381\n",
      "5     3        Customer   34809\n",
      "6     4      Subscriber  309479\n",
      "7     4        Customer   35596\n",
      "8     5        Customer   37842\n",
      "9     5      Subscriber  297646\n",
      "10    6      Subscriber  264392\n",
      "11    6        Customer   45080\n",
      "12    7      Subscriber   87907\n",
      "13    7        Customer   65240\n"
     ]
    }
   ],
   "source": [
    "#Identify the difference between Subscribers and customers count throughout the week\n",
    "query9 = \"\"\"\n",
    "SELECT extract(DAYOFWEEK FROM start_date) as day, subscriber_type, COUNT(*) as count\n",
    "FROM `bigquery-public-data.san_francisco_bikeshare.bikeshare_trips`\n",
    "GROUP BY day, subscriber_type\n",
    "ORDER BY day\n",
    "\"\"\"\n",
    "\n",
    "query9_res = client.query(query9)\n",
    "query9_res = query9_res.to_dataframe()\n",
    "print(query9_res)\n",
    "\n",
    "#Filter the dataframe into subscribers and customers \n",
    "df_s = query9_res[query9_res['subscriber_type'] == 'Subscriber']\n",
    "df_c = query9_res[query9_res['subscriber_type'] == 'Customer']"
   ]
  },
  {
   "cell_type": "code",
   "execution_count": 21,
   "id": "9026aa8d",
   "metadata": {
    "execution": {
     "iopub.execute_input": "2021-12-16T00:47:24.794482Z",
     "iopub.status.busy": "2021-12-16T00:47:24.793751Z",
     "iopub.status.idle": "2021-12-16T00:47:25.026087Z",
     "shell.execute_reply": "2021-12-16T00:47:25.025422Z",
     "shell.execute_reply.started": "2021-12-16T00:42:45.680856Z"
    },
    "papermill": {
     "duration": 0.305365,
     "end_time": "2021-12-16T00:47:25.026246",
     "exception": false,
     "start_time": "2021-12-16T00:47:24.720881",
     "status": "completed"
    },
    "tags": []
   },
   "outputs": [
    {
     "data": {
      "image/png": "[encoded data removed]",
      "text/plain": [
       "<Figure size 432x288 with 1 Axes>"
      ]
     },
     "metadata": {
      "needs_background": "light"
     },
     "output_type": "display_data"
    }
   ],
   "source": [
    "#Create a bar plot representing both subscriber and customer counts throughout the week\n",
    "\n",
    "#Create list of days in a week to create the x_axis \n",
    "day_list = ['Sun', 'Mon', 'Tue', 'Wed', 'Thur', 'Fri', 'Sat']\n",
    "\n",
    "#create the x_axis \n",
    "x_axis2 = np.arange(len(day_list))\n",
    "\n",
    "#plot the bar graph \n",
    "plt.bar(x_axis2 - 0.2,  df_s['count'], 0.4, label=\"Subscriber\")\n",
    "plt.bar(x_axis2 + 0.2,  df_c['count'], 0.4, label=\"Customer\")\n",
    "plt.xticks(x_axis2, day_list)\n",
    "plt.xlabel('Days of the Week')\n",
    "plt.ylabel('Count of Trips')\n",
    "plt.title('Activity of Users throughout the Week')\n",
    "plt.legend()\n",
    "plt.show()"
   ]
  },
  {
   "cell_type": "markdown",
   "id": "336464b5",
   "metadata": {
    "papermill": {
     "duration": 0.048868,
     "end_time": "2021-12-16T00:47:25.124884",
     "exception": false,
     "start_time": "2021-12-16T00:47:25.076016",
     "status": "completed"
    },
    "tags": []
   },
   "source": [
    "The number of total rides throughout the **weekday** between subscribers and customers has the greatest numbers of disproportion. While the number of riders for subscribers on the weekend drops drastically drops, the difference between subscribers and customers becomes more proportional. "
   ]
  },
  {
   "cell_type": "code",
   "execution_count": 22,
   "id": "4c98f575",
   "metadata": {
    "execution": {
     "iopub.execute_input": "2021-12-16T00:47:25.230707Z",
     "iopub.status.busy": "2021-12-16T00:47:25.229971Z",
     "iopub.status.idle": "2021-12-16T00:47:26.433607Z",
     "shell.execute_reply": "2021-12-16T00:47:26.434114Z",
     "shell.execute_reply.started": "2021-12-16T00:42:45.959345Z"
    },
    "papermill": {
     "duration": 1.256213,
     "end_time": "2021-12-16T00:47:26.434338",
     "exception": false,
     "start_time": "2021-12-16T00:47:25.178125",
     "status": "completed"
    },
    "tags": []
   },
   "outputs": [
    {
     "name": "stderr",
     "output_type": "stream",
     "text": [
      "/opt/conda/lib/python3.7/site-packages/google/cloud/bigquery/client.py:440: UserWarning: Cannot create BigQuery Storage client, the dependency google-cloud-bigquery-storage is not installed.\n",
      "  \"Cannot create BigQuery Storage client, the dependency \"\n"
     ]
    },
    {
     "name": "stdout",
     "output_type": "stream",
     "text": [
      "   month  trip_count\n",
      "0    Jan      166590\n",
      "1    Feb      176703\n",
      "2    Mar      193159\n",
      "3    Apr      215365\n",
      "4    May       86364\n",
      "5    Jun       94361\n",
      "6    Jul      133612\n",
      "7    Aug      178868\n",
      "8    Sep      185879\n",
      "9    Oct      203315\n",
      "10   Nov      168703\n",
      "11   Dec      144500\n"
     ]
    },
    {
     "data": {
      "text/plain": [
       "[]"
      ]
     },
     "execution_count": 22,
     "metadata": {},
     "output_type": "execute_result"
    },
    {
     "data": {
      "image/png": "[encoded data removed]",
      "text/plain": [
       "<Figure size 432x288 with 1 Axes>"
      ]
     },
     "metadata": {
      "needs_background": "light"
     },
     "output_type": "display_data"
    }
   ],
   "source": [
    "#Identify the busiest months of the year \n",
    "query7 = \"\"\"\n",
    "SELECT extract(MONTH FROM start_date) as month, COUNT(trip_id) as trip_count\n",
    "FROM `bigquery-public-data.san_francisco_bikeshare.bikeshare_trips`\n",
    "GROUP BY month\n",
    "ORDER BY month\n",
    "\"\"\"\n",
    "\n",
    "query7_res = client.query(query7)\n",
    "query7_res = query7_res.to_dataframe()\n",
    "\n",
    "#Change the month column from int to string \n",
    "month_list = ['Jan', 'Feb', 'Mar', 'Apr', 'May', 'Jun', 'Jul', 'Aug', 'Sep', 'Oct', 'Nov', 'Dec']\n",
    "query7_res['month'] = month_list\n",
    "print(query7_res)\n",
    "\n",
    "#Create the bar plot \n",
    "plt.bar(query7_res['month'], query7_res['trip_count'])\n",
    "plt.xlabel('Months in the Year')\n",
    "plt.ylabel('Count of Trips')\n",
    "plt.title('Activity of Users throughout the Year')\n",
    "plt.plot()"
   ]
  },
  {
   "cell_type": "markdown",
   "id": "9cfa4e35",
   "metadata": {
    "papermill": {
     "duration": 0.050172,
     "end_time": "2021-12-16T00:47:26.535550",
     "exception": false,
     "start_time": "2021-12-16T00:47:26.485378",
     "status": "completed"
    },
    "tags": []
   },
   "source": [
    "The busiest months of the year appear to be during **April** and **October**, which are during two completely different seasons. But, the busiest season appears to be during autumn (August, September, and October). It's also worth noting that San Francisco is located in northern California, where the summers are long, confortable, and the winters are short, and partial cloudy. And according to the **Tourism Score**, based on this [article](https://weatherspark.com/y/557/Average-Weather-in-San-Francisco-California-United-States-Year-Round#Sections-BestTime), the best time to visit San Francisco for warm-weather activities is from **late June** to **early October.**  The autumn season falls within this time frame, but additional analysis will be needed to understand the relationship between bike sharing and warm weather in greater detail. "
   ]
  },
  {
   "cell_type": "code",
   "execution_count": 23,
   "id": "f00c8bca",
   "metadata": {
    "execution": {
     "iopub.execute_input": "2021-12-16T00:47:26.646010Z",
     "iopub.status.busy": "2021-12-16T00:47:26.645387Z",
     "iopub.status.idle": "2021-12-16T00:47:27.682329Z",
     "shell.execute_reply": "2021-12-16T00:47:27.681171Z",
     "shell.execute_reply.started": "2021-12-16T00:42:48.566693Z"
    },
    "papermill": {
     "duration": 1.095279,
     "end_time": "2021-12-16T00:47:27.682560",
     "exception": false,
     "start_time": "2021-12-16T00:47:26.587281",
     "status": "completed"
    },
    "tags": []
   },
   "outputs": [
    {
     "name": "stderr",
     "output_type": "stream",
     "text": [
      "/opt/conda/lib/python3.7/site-packages/google/cloud/bigquery/client.py:440: UserWarning: Cannot create BigQuery Storage client, the dependency google-cloud-bigquery-storage is not installed.\n",
      "  \"Cannot create BigQuery Storage client, the dependency \"\n"
     ]
    },
    {
     "name": "stdout",
     "output_type": "stream",
     "text": [
      "   month subscriber_type   count\n",
      "0      1      Subscriber  146533\n",
      "1      1        Customer   20057\n",
      "2      2      Subscriber  153980\n",
      "3      2        Customer   22723\n",
      "4      3        Customer   26465\n"
     ]
    }
   ],
   "source": [
    "#identify the difference in activity between customers and subscribers throughout the year \n",
    "\n",
    "query10 = \"\"\"\n",
    "SELECT extract(MONTH FROM start_date) as month, subscriber_type, COUNT(*) as count\n",
    "FROM `bigquery-public-data.san_francisco_bikeshare.bikeshare_trips`\n",
    "GROUP BY month, subscriber_type\n",
    "ORDER BY month \n",
    "\"\"\"\n",
    "\n",
    "query10_res = client.query(query10)\n",
    "query10_res = query10_res.to_dataframe()\n",
    "print(query10_res.head())\n",
    "\n",
    "#Filter the dataframe for subscribers and customers\n",
    "df_s2 = query10_res[query10_res['subscriber_type'] == \"Subscriber\"]\n",
    "df_c2 = query10_res[query10_res['subscriber_type'] == \"Customer\"]\n"
   ]
  },
  {
   "cell_type": "code",
   "execution_count": 24,
   "id": "529a730f",
   "metadata": {
    "execution": {
     "iopub.execute_input": "2021-12-16T00:47:27.812576Z",
     "iopub.status.busy": "2021-12-16T00:47:27.810260Z",
     "iopub.status.idle": "2021-12-16T00:47:28.115577Z",
     "shell.execute_reply": "2021-12-16T00:47:28.116133Z",
     "shell.execute_reply.started": "2021-12-16T00:42:50.846541Z"
    },
    "papermill": {
     "duration": 0.381384,
     "end_time": "2021-12-16T00:47:28.116387",
     "exception": false,
     "start_time": "2021-12-16T00:47:27.735003",
     "status": "completed"
    },
    "tags": []
   },
   "outputs": [
    {
     "data": {
      "image/png": "[encoded data removed]",
      "text/plain": [
       "<Figure size 432x288 with 1 Axes>"
      ]
     },
     "metadata": {
      "needs_background": "light"
     },
     "output_type": "display_data"
    }
   ],
   "source": [
    "#Create a bar plot representing subscriber and customer activity throughout the year \n",
    "\n",
    "#Create the x-axis \n",
    "x_axis3 = np.arange(len(month_list))\n",
    "\n",
    "#plot the bar graph \n",
    "plt.bar(x_axis3 - 0.2,  df_s2['count'], 0.4, label=\"Subscriber\")\n",
    "plt.bar(x_axis3 + 0.2,  df_c2['count'], 0.4, label=\"Customer\")\n",
    "plt.xticks(x_axis3, month_list)\n",
    "plt.xlabel('Months in the Year')\n",
    "plt.ylabel('Count of Trips')\n",
    "plt.title('Activity of Users throughout the Year')\n",
    "plt.legend()\n",
    "plt.show()"
   ]
  },
  {
   "cell_type": "markdown",
   "id": "f9799874",
   "metadata": {
    "papermill": {
     "duration": 0.051879,
     "end_time": "2021-12-16T00:47:28.223009",
     "exception": false,
     "start_time": "2021-12-16T00:47:28.171130",
     "status": "completed"
    },
    "tags": []
   },
   "source": [
    "There is a large disproportion in the number of rides between Subscribers and Customers throughout the year. While these numbers may be disproportion, the distribution of rides throughout the year for both Subscribers and Customers follows a similar shape. The busiest season of the year for both Subscribers and Customers appears to be **autumn**, as noted in the section above for all users. "
   ]
  },
  {
   "cell_type": "markdown",
   "id": "c1d3b197",
   "metadata": {
    "papermill": {
     "duration": 0.054081,
     "end_time": "2021-12-16T00:47:28.330646",
     "exception": false,
     "start_time": "2021-12-16T00:47:28.276565",
     "status": "completed"
    },
    "tags": []
   },
   "source": [
    "# Conclusion and Final Thoughts \n"
   ]
  },
  {
   "cell_type": "markdown",
   "id": "6aa07433",
   "metadata": {
    "papermill": {
     "duration": 0.051041,
     "end_time": "2021-12-16T00:47:28.433520",
     "exception": false,
     "start_time": "2021-12-16T00:47:28.382479",
     "status": "completed"
    },
    "tags": []
   },
   "source": [
    "* The disproportion in the number of rides between subscribers and customers is high, with subscribers greater than customers. \n",
    "* The shape of the distribution in the number of rides between subscribers and customers thoughout the day is completely different. \n",
    "* The busiest time for bike sharing in the San Francisco region is during **autumn**\n",
    "\n",
    "Thank you for taking the time to view my initial analysis on bike sharing with BigQuery! I will continue to update this project with additional queries and insights within the coming days/weeks, showcasing better data-driven visualizations and insights. This project was ment as an introduction to working with BigQuery to analyze a dataset, hopefully I was able to provide a level of insight on how to complete the analysis process.  "
   ]
  },
  {
   "cell_type": "markdown",
   "id": "b92a744a",
   "metadata": {
    "papermill": {
     "duration": 0.051584,
     "end_time": "2021-12-16T00:47:28.537405",
     "exception": false,
     "start_time": "2021-12-16T00:47:28.485821",
     "status": "completed"
    },
    "tags": []
   },
   "source": [
    "# Tableau Dashboard "
   ]
  },
  {
   "cell_type": "markdown",
   "id": "8f8302b9",
   "metadata": {
    "papermill": {
     "duration": 0.05123,
     "end_time": "2021-12-16T00:47:28.640321",
     "exception": false,
     "start_time": "2021-12-16T00:47:28.589091",
     "status": "completed"
    },
    "tags": []
   },
   "source": [
    "If you have the opportunity, please check out the dashboard I created for this analysis [LINK](https://public.tableau.com/app/profile/adrian.gonzalez8681/viz/SanFranciscoBikeSharingDashboard/Dashboard1)"
   ]
  },
  {
   "cell_type": "markdown",
   "id": "8c6f9696",
   "metadata": {
    "papermill": {
     "duration": 0.050987,
     "end_time": "2021-12-16T00:47:28.742673",
     "exception": false,
     "start_time": "2021-12-16T00:47:28.691686",
     "status": "completed"
    },
    "tags": []
   },
   "source": [
    "# Feedback "
   ]
  },
  {
   "cell_type": "markdown",
   "id": "5b33da39",
   "metadata": {
    "papermill": {
     "duration": 0.053084,
     "end_time": "2021-12-16T00:47:28.847891",
     "exception": false,
     "start_time": "2021-12-16T00:47:28.794807",
     "status": "completed"
    },
    "tags": []
   },
   "source": [
    "I would appreciate any feedback, or upvotes as a new data enthusiast if you found the analysis helpful. "
   ]
  }
 ],
 "metadata": {
  "kernelspec": {
   "display_name": "Python 3",
   "language": "python",
   "name": "python3"
  },
  "language_info": {
   "codemirror_mode": {
    "name": "ipython",
    "version": 3
   },
   "file_extension": ".py",
   "mimetype": "text/x-python",
   "name": "python",
   "nbconvert_exporter": "python",
   "pygments_lexer": "ipython3",
   "version": "3.7.10"
  },
  "papermill": {
   "default_parameters": {},
   "duration": 31.574297,
   "end_time": "2021-12-16T00:47:29.612076",
   "environment_variables": {},
   "exception": null,
   "input_path": "__notebook__.ipynb",
   "output_path": "__notebook__.ipynb",
   "parameters": {},
   "start_time": "2021-12-16T00:46:58.037779",
   "version": "2.3.3"
  }
 },
 "nbformat": 4,
 "nbformat_minor": 5
}
